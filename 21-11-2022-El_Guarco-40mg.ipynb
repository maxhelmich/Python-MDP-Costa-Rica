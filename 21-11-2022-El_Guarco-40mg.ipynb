{
 "cells": [
  {
   "cell_type": "code",
   "execution_count": 1,
   "metadata": {},
   "outputs": [],
   "source": [
    "# import necessary packages\n",
    "import numpy as np\n",
    "import pandas as pd\n",
    "import scipy as sp\n",
    "import matplotlib.pyplot as plt\n",
    "import warnings\n",
    "import random\n",
    "\n",
    "warnings.simplefilter('ignore') # filter some warning messages\n",
    "%matplotlib inline\n"
   ]
  },
  {
   "cell_type": "code",
   "execution_count": 2,
   "metadata": {},
   "outputs": [
    {
     "data": {
      "text/plain": [
       "Cartago      112\n",
       "Oreamuno      88\n",
       "Paraíso       33\n",
       "Alvarado       8\n",
       "El Guarco      4\n",
       "CARTAGO        2\n",
       "Name: CANTÓN, dtype: int64"
      ]
     },
     "metadata": {},
     "output_type": "display_data"
    }
   ],
   "source": [
    "import numpy as np\n",
    "import pandas as pd\n",
    "\n",
    "def dt64_to_float(dt64):\n",
    "    \"\"\"Converts numpy.datetime64 to year as float.\n",
    "\n",
    "    Rounded to days\n",
    "\n",
    "    Parameters\n",
    "    ----------\n",
    "    dt64 : np.datetime64 or np.ndarray(dtype='datetime64[X]')\n",
    "        date data\n",
    "\n",
    "    Returns\n",
    "    -------\n",
    "    float or np.ndarray(dtype=float)\n",
    "        Year in floating point representation\n",
    "    \"\"\"\n",
    "\n",
    "    year = dt64.astype('M8[Y]')\n",
    "    # print('year:', year)\n",
    "    days = (dt64 - year).astype('timedelta64[D]')\n",
    "    # print('days:', days)\n",
    "    year_next = year + np.timedelta64(1, 'Y')\n",
    "    # print('year_next:', year_next)\n",
    "    days_of_year = (year_next.astype('M8[D]') - year.astype('M8[D]')\n",
    "                    ).astype('timedelta64[D]')\n",
    "    # print('days_of_year:', days_of_year)\n",
    "    dt_float = 1970 + year.astype(float) + days / (days_of_year)\n",
    "    # print('dt_float:', dt_float)\n",
    "    return dt_float\n",
    "\n",
    "if __name__ == \"__main__\":\n",
    "\n",
    "    dates = np.array([\n",
    "        '1970-01-01', '2014-01-01', '2020-12-31', '2019-12-31', '2010-04-28'],\n",
    "        dtype='datetime64[D]')\n",
    "\n",
    "    df = pd.DataFrame({\n",
    "        'date': dates,\n",
    "        'number': np.arange(5)\n",
    "        })\n",
    "\n",
    "    df['date_float'] = dt64_to_float(df['date'].to_numpy())\n",
    "\n",
    "\n",
    "    dt64 = np.datetime64( \"2011-11-11\" )\n",
    "    \n",
    "#Inladen + sorteren van de dataset op regio\n",
    "#Geeft het aantal unieke systemen in de verschillende regio's\n",
    "\n",
    "data = pd.read_excel (r'FulldataEXCEL.xlsx',sheet_name = 'Above40mg')\n",
    "df = pd.DataFrame(data,columns= ['FECHA DE MUESTREO','SISTEMA DE ABASTECIMIENTO','RESULTADO','PUNTO DE MUESTREO','CANTÓN'])\n",
    "# display(df)\n",
    "SortData = df.sort_values(by=['FECHA DE MUESTREO'], ascending=True)\n",
    "# display(SortData)\n",
    "#Dit hoeft niet eens, omdat er geen nul waarde in de data set zitten \n",
    "Cartago=SortData.dropna(subset=['RESULTADO'])\n",
    "# display(SortData2)\n",
    "Cartago.replace('ALVARADO', 'Alvarado', inplace=True)\n",
    "Cartago.replace('CARTAGO', 'Cartago', inplace=True)\n",
    "Cartago.replace('OREAMUNO', 'Oreamuno', inplace=True)\n",
    "Cartago.replace('PARAÍSO', 'Paraíso', inplace=True)\n",
    "\n",
    "counts = Cartago['CANTÓN'].value_counts()\n",
    "display(counts)\n",
    "Cartago_city = Cartago[Cartago[\"CANTÓN\"] == 'Cartago']\n",
    "Oreamuno = Cartago[Cartago[\"CANTÓN\"] == 'Oreamuno']\n",
    "Paraíso = Cartago[Cartago[\"CANTÓN\"] == 'Paraíso']\n",
    "Alvarado = Cartago[Cartago[\"CANTÓN\"] == 'Alvarado']\n",
    "El_Guarco = Cartago[Cartago[\"CANTÓN\"] == 'El Guarco']\n",
    "\n",
    "#In de meeste cellen staan dus meerdere waardes, die worden hier gesplits \n",
    "#en van elke value wordt een nieuwe rij gemaakt \n",
    "\n",
    "def splitDataFrameList(df,target_column,separator,output_type=float):\n",
    "    ''' df = dataframe to split,\n",
    "    target_column = the column containing the values to split\n",
    "    separator = the symbol used to perform the split\n",
    "    returns: a dataframe with each entry for the target column separated, with each element moved into a new row. \n",
    "    The values in the other columns are duplicated across the newly divided rows.\n",
    "    '''\n",
    "    def splitListToRows(row,row_accumulator,target_column,separator):\n",
    "        split_row = row[target_column].split(separator)\n",
    "        for s in split_row:\n",
    "            new_row = row.to_dict()\n",
    "            new_row[target_column] = s\n",
    "            row_accumulator.append(new_row)\n",
    "    new_rows = []\n",
    "    df.apply(splitListToRows,axis=1,args = (new_rows,target_column,separator))\n",
    "    new_df = pd.DataFrame(new_rows)\n",
    "    return new_df"
   ]
  },
  {
   "cell_type": "code",
   "execution_count": 3,
   "metadata": {},
   "outputs": [
    {
     "name": "stdout",
     "output_type": "stream",
     "text": [
      "4\n"
     ]
    }
   ],
   "source": [
    "#In deze cel worden de volgende handelingen uitgevoerd: Creeëren van een nieuwe\n",
    "#excel, het sorteren van de dataset op 'Resultaten van hoog --> laag', \n",
    "#de datums, resultaten en syteem namen worden geextract\n",
    "\n",
    "\n",
    "El_Guarco.to_excel('El_Guarco.xlsx')\n",
    "El_Guarco2 = pd.read_excel (r'El_Guarco.xlsx',index_col=1,parse_dates=True )\n",
    "El_Guarco3 = pd.DataFrame(El_Guarco2,columns= ['SISTEMA DE ABASTECIMIENTO','RESULTADO','CANTÓN','PUNTO DE MUESTREO'])\n",
    "# Cartago_city3.sort_values(by=['RESULTADO'],ascending=False, inplace=True)\n",
    "#Tijd\n",
    "dates_input = El_Guarco3.index.values.astype('datetime64[D]')\n",
    "Time = dt64_to_float(dates_input)\n",
    "Time_rounded = np.round(Time,3)\n",
    "# #Resultaten\n",
    "Resultado = El_Guarco3['RESULTADO']\n",
    "# #Systeem namen, deze zijn echter niet allen uniek --> \n",
    "\n",
    "Locaties = El_Guarco3['PUNTO DE MUESTREO']\n",
    "\n",
    "# #Daarom wordt deze functies gecreert die alleen systemen met een unieke naam \n",
    "# #eruit filteren en samenvoegen in een array\n",
    "\n",
    "Systema = El_Guarco3['SISTEMA DE ABASTECIMIENTO']\n",
    "print(len(Systema))\n",
    "def VulFunc(Naam_Array,Naam_Array_leeg):\n",
    "    k =1\n",
    "    for j in range(len(Naam_Array_leeg)+1):\n",
    "        if j+1 == (len(Naam_Array_leeg)+1)and k==1:\n",
    "            Naam_Array_leeg.append(Naam_Array)\n",
    "\n",
    "        else:\n",
    "#             print('door')\n",
    "            for i in range(len(Naam_Array_leeg)):\n",
    "                if Naam_Array != Naam_Array_leeg[i]:\n",
    "                    continue\n",
    "                else:\n",
    "                    k = 2 \n",
    "    return Naam_Array_leeg\n",
    "\n",
    "# display(Cartago_city3.head(112))"
   ]
  },
  {
   "cell_type": "code",
   "execution_count": 4,
   "metadata": {},
   "outputs": [
    {
     "data": {
      "text/html": [
       "<div>\n",
       "<style scoped>\n",
       "    .dataframe tbody tr th:only-of-type {\n",
       "        vertical-align: middle;\n",
       "    }\n",
       "\n",
       "    .dataframe tbody tr th {\n",
       "        vertical-align: top;\n",
       "    }\n",
       "\n",
       "    .dataframe thead th {\n",
       "        text-align: right;\n",
       "    }\n",
       "</style>\n",
       "<table border=\"1\" class=\"dataframe\">\n",
       "  <thead>\n",
       "    <tr style=\"text-align: right;\">\n",
       "      <th></th>\n",
       "      <th>SISTEMA DE ABASTECIMIENTO</th>\n",
       "      <th>RESULTADO</th>\n",
       "      <th>CANTÓN</th>\n",
       "      <th>PUNTO DE MUESTREO</th>\n",
       "    </tr>\n",
       "    <tr>\n",
       "      <th>FECHA DE MUESTREO</th>\n",
       "      <th></th>\n",
       "      <th></th>\n",
       "      <th></th>\n",
       "      <th></th>\n",
       "    </tr>\n",
       "  </thead>\n",
       "  <tbody>\n",
       "    <tr>\n",
       "      <td>2014-12-03</td>\n",
       "      <td>TEJAR DE EL GUARCO: SECTOR POZO LA ROSITA</td>\n",
       "      <td>75.59</td>\n",
       "      <td>El Guarco</td>\n",
       "      <td>POZO LA ROSITA</td>\n",
       "    </tr>\n",
       "    <tr>\n",
       "      <td>2015-06-25</td>\n",
       "      <td>P.T.A.R. URBANIZACIÓN JARDINES DE TOBOSÍ</td>\n",
       "      <td>45.00</td>\n",
       "      <td>El Guarco</td>\n",
       "      <td>SALIDA DEL SISTEMA VERTEDRO</td>\n",
       "    </tr>\n",
       "    <tr>\n",
       "      <td>2015-09-25</td>\n",
       "      <td>MEZCLA DE POZOS SILOS1,2 Y 3 DE TEJAR</td>\n",
       "      <td>41.18</td>\n",
       "      <td>El Guarco</td>\n",
       "      <td>POZO SILO 2</td>\n",
       "    </tr>\n",
       "    <tr>\n",
       "      <td>2016-04-19</td>\n",
       "      <td>MEZCLA DE POZOS SILOS1,2 Y 3 DE TEJAR</td>\n",
       "      <td>44.38</td>\n",
       "      <td>El Guarco</td>\n",
       "      <td>POZO SILO 2</td>\n",
       "    </tr>\n",
       "  </tbody>\n",
       "</table>\n",
       "</div>"
      ],
      "text/plain": [
       "                                   SISTEMA DE ABASTECIMIENTO  RESULTADO  \\\n",
       "FECHA DE MUESTREO                                                         \n",
       "2014-12-03         TEJAR DE EL GUARCO: SECTOR POZO LA ROSITA      75.59   \n",
       "2015-06-25          P.T.A.R. URBANIZACIÓN JARDINES DE TOBOSÍ      45.00   \n",
       "2015-09-25             MEZCLA DE POZOS SILOS1,2 Y 3 DE TEJAR      41.18   \n",
       "2016-04-19             MEZCLA DE POZOS SILOS1,2 Y 3 DE TEJAR      44.38   \n",
       "\n",
       "                      CANTÓN            PUNTO DE MUESTREO  \n",
       "FECHA DE MUESTREO                                          \n",
       "2014-12-03         El Guarco               POZO LA ROSITA  \n",
       "2015-06-25         El Guarco  SALIDA DEL SISTEMA VERTEDRO  \n",
       "2015-09-25         El Guarco                  POZO SILO 2  \n",
       "2016-04-19         El Guarco                  POZO SILO 2  "
      ]
     },
     "metadata": {},
     "output_type": "display_data"
    },
    {
     "name": "stdout",
     "output_type": "stream",
     "text": [
      "['TEJAR DE EL GUARCO: SECTOR POZO LA ROSITA', 'P.T.A.R. URBANIZACIÓN JARDINES DE TOBOSÍ', 'MEZCLA DE POZOS SILOS1,2 Y 3 DE TEJAR']\n",
      "3\n"
     ]
    }
   ],
   "source": [
    "#Hier wordt de lege array opgevuld met de unieke systeem namen\n",
    "El_Guarco3.replace('PARAÍSOCENTRO', 'PARAÍSO DE CARTAGO: CENTRO', inplace=True)\n",
    "El_Guarco3.replace('PARAÍSO CENTRO', 'PARAÍSO DE CARTAGO: CENTRO', inplace=True)\n",
    "El_Guarco3.replace('PARAISO DE CARTAGO: CENTRO', 'PARAÍSO DE CARTAGO: CENTRO', inplace=True)\n",
    "display(El_Guarco3)\n",
    "systema_unique = []\n",
    "for i in range(len(El_Guarco3['SISTEMA DE ABASTECIMIENTO'])):\n",
    "    VulFunc(El_Guarco3['SISTEMA DE ABASTECIMIENTO'][i],systema_unique)\n",
    "print(systema_unique)\n",
    "print(len(systema_unique))\n"
   ]
  },
  {
   "cell_type": "code",
   "execution_count": 5,
   "metadata": {},
   "outputs": [],
   "source": [
    "#in deze functie worden de drie elementen gecombineerd: Tijd, Resultaen en \n",
    "#systemen. Aleen de systemen waarbij de waarde boven de 50 uitkomt zal worden\n",
    "#geplot. De output is een grafiek met twee threshold values + dataplotten over\n",
    "#tijd en de hoeveelheid data punten aangegeven door de individuele \n",
    "#markeerpunten. Daarnaast worden de probleem gevallen nitraat hoeveelheden > 50, \n",
    "#opgeslagen in de array: 'Problems'\n",
    "def Sub_systemen(nummer):\n",
    "    SAN_RAFAEL_DE_OREAMUNO_CENTRO = np.zeros(251)\n",
    "    SAN_RAFAEL_DE_OREAMUNO_CENTRO_TIME = np.zeros(251)\n",
    "#     SAN_RAFAEL_DE_OREAMUNO_CENTRO_lOCATION = np.zeros(251)\n",
    "    for i in range(4):\n",
    "        if Systema[i]== systema_unique[nummer]:\n",
    "                SAN_RAFAEL_DE_OREAMUNO_CENTRO[i] = Resultado[i]\n",
    "                SAN_RAFAEL_DE_OREAMUNO_CENTRO_TIME[i] = Time_rounded[i]\n",
    "#                 SAN_RAFAEL_DE_OREAMUNO_lOCATION[i] = Locaties[i]\n",
    "    #             print('ja') \n",
    "\n",
    "    a = SAN_RAFAEL_DE_OREAMUNO_CENTRO\n",
    "    a0 = a[a != 0]\n",
    "    b = SAN_RAFAEL_DE_OREAMUNO_CENTRO_TIME\n",
    "    b0 = b[b != 0]\n",
    "#     c = SAN_RAFAEL_DE_OREAMUNO_CENTRO_LOCATION\n",
    "#     c0 = c[c != 0]\n",
    "    \n",
    "    \n",
    "    m = 1 \n",
    "    for i in range(len(a0)):\n",
    "        if a0[i] > 40:\n",
    "            plt.title(f'{systema_unique[nummer]}', color = 'red')\n",
    "#             Problems.append(f'{systema_unique[nummer]}')\n",
    "            plt.ylabel('Nitrate in mg/l')\n",
    "#             axs[i,j].plot(b0,a0,marker='o', markerfacecolor='blue', markersize=12)\n",
    "            plt.plot(b0,a0,marker='o', markerfacecolor='blue', markersize=12)\n",
    "            plt.axhline(40, color = 'yellow')\n",
    "            plt.axhline(50, color = 'red')\n",
    "            plt.xticks(rotation=90)\n",
    "            plt.xlim([2009, 2022])\n",
    "            plt.title(f'{systema_unique[nummer]}',fontsize = 13)\n",
    "            m = 2 \n",
    "            break\n",
    "    return  plt.plot(b0,a0,marker='o', markerfacecolor='blue', markersize=12);\n",
    "#, a0, b0, Problems"
   ]
  },
  {
   "cell_type": "code",
   "execution_count": 6,
   "metadata": {},
   "outputs": [],
   "source": [
    "#Deze functie wordt gebruikt om onderscheidt te maken tussen de subplots die \n",
    "#wel >50 en niet <50 geplot moeten worden, door een m = 1 of m = 2 toe te wijzen. \n",
    "def Sub_systemen_m(nummer):\n",
    "    SAN_RAFAEL_DE_OREAMUNO_CENTRO = np.zeros(251)\n",
    "    SAN_RAFAEL_DE_OREAMUNO_CENTRO_TIME = np.zeros(251)\n",
    "#     SAN_RAFAEL_DE_OREAMUNO_CENTRO_LOCATION = np.zeros(251)\n",
    "    for i in range(4):\n",
    "        if Systema[i]== systema_unique[nummer]:\n",
    "                SAN_RAFAEL_DE_OREAMUNO_CENTRO[i] = Resultado[i]\n",
    "                SAN_RAFAEL_DE_OREAMUNO_CENTRO_TIME[i] = Time_rounded[i]\n",
    "#                 SAN_RAFAEL_DE_OREAMUNO_CENTRO_LOCATION[i] = Locaties[i]\n",
    "    #             print('ja') \n",
    "\n",
    "    a = SAN_RAFAEL_DE_OREAMUNO_CENTRO\n",
    "    a0 = a[a != 0]\n",
    "    b = SAN_RAFAEL_DE_OREAMUNO_CENTRO_TIME\n",
    "    b0 = b[b != 0]\n",
    "#     c = SAN_RAFAEL_DE_OREAMUNO_CENTRO_LOCATION\n",
    "#     c0 = c[c != 0]\n",
    "    \n",
    "    m = 1 \n",
    "    for i in range(len(a0)):\n",
    "        if a0[i] > 40:\n",
    "            m = 2 \n",
    "            break\n",
    "    return  m\n",
    "\n"
   ]
  },
  {
   "cell_type": "code",
   "execution_count": 7,
   "metadata": {},
   "outputs": [
    {
     "name": "stdout",
     "output_type": "stream",
     "text": [
      "[<matplotlib.lines.Line2D object at 0x000002BC71313A48>]\n"
     ]
    },
    {
     "data": {
      "image/png": "[encoded data removed]",
      "text/plain": [
       "<Figure size 432x288 with 1 Axes>"
      ]
     },
     "metadata": {
      "needs_background": "light"
     },
     "output_type": "display_data"
    }
   ],
   "source": [
    "print(Sub_systemen(2))"
   ]
  },
  {
   "cell_type": "code",
   "execution_count": 8,
   "metadata": {},
   "outputs": [
    {
     "name": "stdout",
     "output_type": "stream",
     "text": [
      "[<matplotlib.lines.Line2D object at 0x000002BC713F0BC8>]\n",
      "[<matplotlib.lines.Line2D object at 0x000002BC71446B48>]\n",
      "[<matplotlib.lines.Line2D object at 0x000002BC7149F808>]\n"
     ]
    },
    {
     "data": {
      "image/png": "[encoded data removed]",
      "text/plain": [
       "<Figure size 1440x1440 with 3 Axes>"
      ]
     },
     "metadata": {
      "needs_background": "light"
     },
     "output_type": "display_data"
    }
   ],
   "source": [
    "fig = plt.figure(figsize=(20,20));\n",
    "for i in range(3):\n",
    "    if Sub_systemen_m(i) == 2:\n",
    "        plt.subplot(2,2,i+1);\n",
    "#         #Sub_systemen(i);\n",
    "        print(Sub_systemen(i))\n",
    "# print(Problems)  \n",
    "fig.suptitle('Systems >40 mg/l in Alvarado',fontsize = 20 ) \n",
    "fig.savefig('First_9_El_Guarco_timeline')"
   ]
  },
  {
   "cell_type": "code",
   "execution_count": null,
   "metadata": {},
   "outputs": [],
   "source": []
  }
 ],
 "metadata": {
  "kernelspec": {
   "display_name": "Python 3",
   "language": "python",
   "name": "python3"
  },
  "language_info": {
   "codemirror_mode": {
    "name": "ipython",
    "version": 3
   },
   "file_extension": ".py",
   "mimetype": "text/x-python",
   "name": "python",
   "nbconvert_exporter": "python",
   "pygments_lexer": "ipython3",
   "version": "3.7.4"
  }
 },
 "nbformat": 4,
 "nbformat_minor": 2
}
